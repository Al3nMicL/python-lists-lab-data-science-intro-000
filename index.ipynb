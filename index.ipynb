{
  "nbformat": 4,
  "nbformat_minor": 0,
  "metadata": {
    "kernelspec": {
      "display_name": "Python 3",
      "language": "python",
      "name": "python3"
    },
    "language_info": {
      "codemirror_mode": {
        "name": "ipython",
        "version": 3
      },
      "file_extension": ".py",
      "mimetype": "text/x-python",
      "name": "python",
      "nbconvert_exporter": "python",
      "pygments_lexer": "ipython3",
      "version": "3.6.4"
    },
    "colab": {
      "name": "Copy of index.ipynb",
      "version": "0.3.2",
      "provenance": [],
      "include_colab_link": true
    }
  },
  "cells": [
    {
      "cell_type": "markdown",
      "metadata": {
        "id": "view-in-github",
        "colab_type": "text"
      },
      "source": [
        "<a href=\"https://colab.research.google.com/github/Al3nMicL/python-lists-lab-data-science-intro-000/blob/my_wip/index.ipynb\" target=\"_parent\"><img src=\"https://colab.research.google.com/assets/colab-badge.svg\" alt=\"Open In Colab\"/></a>"
      ]
    },
    {
      "cell_type": "markdown",
      "metadata": {
        "collapsed": true,
        "id": "zGIidzkl5lhH",
        "colab_type": "text"
      },
      "source": [
        "# Lists Lab "
      ]
    },
    {
      "cell_type": "markdown",
      "metadata": {
        "id": "BNOT06my5lhO",
        "colab_type": "text"
      },
      "source": [
        "### Introduction"
      ]
    },
    {
      "cell_type": "markdown",
      "metadata": {
        "id": "1gJZyxi55lhS",
        "colab_type": "text"
      },
      "source": [
        "Ok, so now that we have a sense of how to read from a list and alter a list in Python, let's put this knowledge to use. "
      ]
    },
    {
      "cell_type": "markdown",
      "metadata": {
        "id": "OaiJc8vf5lhU",
        "colab_type": "text"
      },
      "source": [
        "### Objectives"
      ]
    },
    {
      "cell_type": "markdown",
      "metadata": {
        "id": "VMyydDAQ5lhW",
        "colab_type": "text"
      },
      "source": [
        "* Practice reading one and multiple elements from lists\n",
        "* Practice altering data in lists\n",
        "* Practice adding elements and removing elements from lists"
      ]
    },
    {
      "cell_type": "markdown",
      "metadata": {
        "id": "pnqxMegB5lhY",
        "colab_type": "text"
      },
      "source": [
        "### Our initial data structure "
      ]
    },
    {
      "cell_type": "markdown",
      "metadata": {
        "id": "Pmw-yjzy5lha",
        "colab_type": "text"
      },
      "source": [
        "In the previous lesson, we had a list of top travel cities."
      ]
    },
    {
      "cell_type": "code",
      "metadata": {
        "id": "Fa1Mni8w5lhc",
        "colab_type": "code",
        "colab": {}
      },
      "source": [
        "top_travel_cities = ['Solta', 'Greenville', 'Buenos Aires', 'Los Cabos', 'Walla Walla Valley', 'Marakesh', 'Albuquerque', 'Archipelago Sea', 'Iguazu Falls', 'Salina Island', 'Toronto', 'Pyeongchang']"
      ],
      "execution_count": 0,
      "outputs": []
    },
    {
      "cell_type": "markdown",
      "metadata": {
        "id": "NO1gZZlP5lhn",
        "colab_type": "text"
      },
      "source": [
        "> Remember to press shift+enter to run each gray block of code (including the one above).  Otherwise, the variables will not be defined."
      ]
    },
    {
      "cell_type": "markdown",
      "metadata": {
        "id": "w4G3Qlbh5lhp",
        "colab_type": "text"
      },
      "source": [
        "In this lesson we will work with a list of associated countries corresponding to each of the top travel cities."
      ]
    },
    {
      "cell_type": "code",
      "metadata": {
        "id": "OKpG-SFv5lhr",
        "colab_type": "code",
        "colab": {}
      },
      "source": [
        "countries = ['Croatia',\n",
        " 'USA',\n",
        " 'Argentina',\n",
        " 'Mexico',\n",
        " 'USA',\n",
        " 'Morocco',\n",
        " 'New Mexico',\n",
        " 'Finland',\n",
        " 'Argentina',\n",
        " 'Italy',\n",
        " 'Canada',\n",
        " 'South Korea']"
      ],
      "execution_count": 0,
      "outputs": []
    },
    {
      "cell_type": "markdown",
      "metadata": {
        "id": "Xp4XbRM85lhx",
        "colab_type": "text"
      },
      "source": [
        "> Run the code in the cell above by pressing shift + enter."
      ]
    },
    {
      "cell_type": "markdown",
      "metadata": {
        "id": "oTW0IFs55lh0",
        "colab_type": "text"
      },
      "source": [
        "Ok, so the list of countries associated with each city has been assigned to the variable `countries`.  Now we will work with reading and manipulating this list."
      ]
    },
    {
      "cell_type": "markdown",
      "metadata": {
        "id": "Va-a3TFH5lh2",
        "colab_type": "text"
      },
      "source": [
        "### Accessing elements from lists"
      ]
    },
    {
      "cell_type": "markdown",
      "metadata": {
        "id": "2HWGaEkO5lh4",
        "colab_type": "text"
      },
      "source": [
        "First, set the variable `italy` to be equal to the third to last element from `countries`.  \n",
        ">**Note:** If you see an **error** stating that `countries` is undefined, it means you must press shift+enter in the second gray box where `countries` variable is assigned."
      ]
    },
    {
      "cell_type": "code",
      "metadata": {
        "id": "UFHd_acb5lh6",
        "colab_type": "code",
        "colab": {
          "base_uri": "https://localhost:8080/",
          "height": 34
        },
        "outputId": "1a30fa81-e004-413b-ebec-3bd05f95676b"
      },
      "source": [
        "italy = countries[-3] # 'Italy'\n",
        "italy"
      ],
      "execution_count": 3,
      "outputs": [
        {
          "output_type": "execute_result",
          "data": {
            "text/plain": [
              "'Italy'"
            ]
          },
          "metadata": {
            "tags": []
          },
          "execution_count": 3
        }
      ]
    },
    {
      "cell_type": "markdown",
      "metadata": {
        "id": "CUaGXqc-5liC",
        "colab_type": "text"
      },
      "source": [
        "> We assign the varible `italy` equal to `None`, but you should change the word `None` to code that uses the `countries` list to assign `italy` to `'Italy'`.  We wrote the variable `italy` a second time, so that you can see what it equals when you run the code block.  Currently, nothing is displayed below as it equals `None`, but when it's correct it will match the string which is commented out, `'Italy'`."
      ]
    },
    {
      "cell_type": "code",
      "metadata": {
        "id": "aEAgOa_t5liF",
        "colab_type": "code",
        "colab": {
          "base_uri": "https://localhost:8080/",
          "height": 34
        },
        "outputId": "bd81e5cc-ae9b-4aa4-e2e7-2cf928797688"
      },
      "source": [
        "italy # 'Italy'"
      ],
      "execution_count": 4,
      "outputs": [
        {
          "output_type": "execute_result",
          "data": {
            "text/plain": [
              "'Italy'"
            ]
          },
          "metadata": {
            "tags": []
          },
          "execution_count": 4
        }
      ]
    },
    {
      "cell_type": "markdown",
      "metadata": {
        "id": "SZRd_GUH5liM",
        "colab_type": "text"
      },
      "source": [
        "Now access the fourth element and set it equal to the variable `mexico`."
      ]
    },
    {
      "cell_type": "code",
      "metadata": {
        "id": "ByCyQK5j5liO",
        "colab_type": "code",
        "colab": {
          "base_uri": "https://localhost:8080/",
          "height": 34
        },
        "outputId": "70dd9335-92cb-46d1-f9c2-f2dd7ee1a70e"
      },
      "source": [
        "mexico = countries[3]\n",
        "mexico"
      ],
      "execution_count": 6,
      "outputs": [
        {
          "output_type": "execute_result",
          "data": {
            "text/plain": [
              "'Mexico'"
            ]
          },
          "metadata": {
            "tags": []
          },
          "execution_count": 6
        }
      ]
    },
    {
      "cell_type": "markdown",
      "metadata": {
        "id": "TeJoulhW5liY",
        "colab_type": "text"
      },
      "source": [
        "Notice that the second through fifth elements are all in a row and all in the Western Hemisphere.  Assign that subset of elements to a variable called `kindof_neighbors`."
      ]
    },
    {
      "cell_type": "code",
      "metadata": {
        "id": "I0qZ-D0P5lia",
        "colab_type": "code",
        "colab": {
          "base_uri": "https://localhost:8080/",
          "height": 34
        },
        "outputId": "8f732f5a-4d9e-44da-8136-a11a6e3529dc"
      },
      "source": [
        "kindof_neighbors = countries[1:5]\n",
        "kindof_neighbors"
      ],
      "execution_count": 7,
      "outputs": [
        {
          "output_type": "execute_result",
          "data": {
            "text/plain": [
              "['USA', 'Argentina', 'Mexico', 'USA']"
            ]
          },
          "metadata": {
            "tags": []
          },
          "execution_count": 7
        }
      ]
    },
    {
      "cell_type": "markdown",
      "metadata": {
        "id": "pi2K9A-X5lik",
        "colab_type": "text"
      },
      "source": [
        "### Changing Elements"
      ]
    },
    {
      "cell_type": "markdown",
      "metadata": {
        "id": "ors2-Azx5lin",
        "colab_type": "text"
      },
      "source": [
        "Ok, now let's add a couple of countries onto this list.  At the end of the list, add the country 'Malta'."
      ]
    },
    {
      "cell_type": "code",
      "metadata": {
        "id": "my86PJ4D5lip",
        "colab_type": "code",
        "colab": {
          "base_uri": "https://localhost:8080/",
          "height": 54
        },
        "outputId": "5bd4b1b7-9789-4bd5-80a0-2ec0c031e70a"
      },
      "source": [
        "countries.append('Malta')\n",
        "print(countries)"
      ],
      "execution_count": 8,
      "outputs": [
        {
          "output_type": "stream",
          "text": [
            "['Croatia', 'USA', 'Argentina', 'Mexico', 'USA', 'Morocco', 'New Mexico', 'Finland', 'Argentina', 'Italy', 'Canada', 'South Korea', 'Malta']\n"
          ],
          "name": "stdout"
        }
      ]
    },
    {
      "cell_type": "markdown",
      "metadata": {
        "id": "_bRaM5DF5liy",
        "colab_type": "text"
      },
      "source": [
        "Then add the country 'Thailand'."
      ]
    },
    {
      "cell_type": "code",
      "metadata": {
        "id": "uxx9bPWR5li1",
        "colab_type": "code",
        "colab": {
          "base_uri": "https://localhost:8080/",
          "height": 54
        },
        "outputId": "7f1a26a1-3184-4971-8577-c712a0102cf9"
      },
      "source": [
        "countries.append('Thailand')\n",
        "print(countries)"
      ],
      "execution_count": 9,
      "outputs": [
        {
          "output_type": "stream",
          "text": [
            "['Croatia', 'USA', 'Argentina', 'Mexico', 'USA', 'Morocco', 'New Mexico', 'Finland', 'Argentina', 'Italy', 'Canada', 'South Korea', 'Malta', 'Thailand']\n"
          ],
          "name": "stdout"
        }
      ]
    },
    {
      "cell_type": "markdown",
      "metadata": {
        "id": "vwHmyrbv5li-",
        "colab_type": "text"
      },
      "source": [
        "Now your list of countries should look like the following."
      ]
    },
    {
      "cell_type": "code",
      "metadata": {
        "id": "3DWERm9f5ljB",
        "colab_type": "code",
        "colab": {
          "base_uri": "https://localhost:8080/",
          "height": 255
        },
        "outputId": "d753acf2-fe39-4740-c436-5a3930a224d4"
      },
      "source": [
        "countries \n",
        "# ['Croatia', 'USA', 'Argentina', 'Mexico', 'USA', 'Morocco', 'New Mexico', 'Finland', \n",
        "# 'Argentina', 'Italy',  'Canada', 'South Korea',  'Malta',  'Thailand']"
      ],
      "execution_count": 10,
      "outputs": [
        {
          "output_type": "execute_result",
          "data": {
            "text/plain": [
              "['Croatia',\n",
              " 'USA',\n",
              " 'Argentina',\n",
              " 'Mexico',\n",
              " 'USA',\n",
              " 'Morocco',\n",
              " 'New Mexico',\n",
              " 'Finland',\n",
              " 'Argentina',\n",
              " 'Italy',\n",
              " 'Canada',\n",
              " 'South Korea',\n",
              " 'Malta',\n",
              " 'Thailand']"
            ]
          },
          "metadata": {
            "tags": []
          },
          "execution_count": 10
        }
      ]
    },
    {
      "cell_type": "markdown",
      "metadata": {
        "id": "ScFXdnFa5ljK",
        "colab_type": "text"
      },
      "source": [
        "You may have noticed that \"New Mexico\" is included in our list of countries.  That doesn't seem right.  Let's change 'New Mexico' to 'USA'."
      ]
    },
    {
      "cell_type": "code",
      "metadata": {
        "id": "dUuklP6V5ljN",
        "colab_type": "code",
        "colab": {
          "base_uri": "https://localhost:8080/",
          "height": 34
        },
        "outputId": "6de8b784-dc22-4019-cf6b-f1664dc77add"
      },
      "source": [
        "countries[6] = \"USA\"\n",
        "print(countries[6])"
      ],
      "execution_count": 11,
      "outputs": [
        {
          "output_type": "stream",
          "text": [
            "USA\n"
          ],
          "name": "stdout"
        }
      ]
    },
    {
      "cell_type": "code",
      "metadata": {
        "id": "9dyVffJp5ljX",
        "colab_type": "code",
        "colab": {
          "base_uri": "https://localhost:8080/",
          "height": 255
        },
        "outputId": "ecbef48b-0d16-47cd-b063-5990af540f1f"
      },
      "source": [
        "countries \n",
        "# ['Croatia', 'USA', 'Argentina', 'Mexico', 'USA', 'Morocco', 'USA', 'Finland', \n",
        "# 'Argentina', 'Italy',  'Canada', 'South Korea',  'Malta',  'Thailand']"
      ],
      "execution_count": 12,
      "outputs": [
        {
          "output_type": "execute_result",
          "data": {
            "text/plain": [
              "['Croatia',\n",
              " 'USA',\n",
              " 'Argentina',\n",
              " 'Mexico',\n",
              " 'USA',\n",
              " 'Morocco',\n",
              " 'USA',\n",
              " 'Finland',\n",
              " 'Argentina',\n",
              " 'Italy',\n",
              " 'Canada',\n",
              " 'South Korea',\n",
              " 'Malta',\n",
              " 'Thailand']"
            ]
          },
          "metadata": {
            "tags": []
          },
          "execution_count": 12
        }
      ]
    },
    {
      "cell_type": "markdown",
      "metadata": {
        "id": "t3cXXGhi5ljg",
        "colab_type": "text"
      },
      "source": [
        "Finally, let's remove Thailand from the list.  No good reason, we're acting on whimsy."
      ]
    },
    {
      "cell_type": "code",
      "metadata": {
        "id": "yVqfgWYK5lji",
        "colab_type": "code",
        "colab": {
          "base_uri": "https://localhost:8080/",
          "height": 238
        },
        "outputId": "6bffe1e6-8b5a-4db5-8d66-1d7e62af2de0"
      },
      "source": [
        "countries = ['Croatia',\n",
        " 'USA',\n",
        " 'Argentina',\n",
        " 'Mexico',\n",
        " 'USA',\n",
        " 'Morocco',\n",
        " 'USA',\n",
        " 'Finland',\n",
        " 'Argentina',\n",
        " 'Italy',\n",
        " 'Canada',\n",
        " 'South Korea', \n",
        " 'Malta', \n",
        " 'Thailand']\n",
        "countries.pop() # 'Thailand'\n",
        "countries\n",
        "# ['Croatia', 'USA', 'Argentina', 'Mexico', 'USA', 'Morocco', 'USA', 'Finland',  'Argentina', 'Italy', 'Canada', 'South Korea',  'Malta']"
      ],
      "execution_count": 14,
      "outputs": [
        {
          "output_type": "execute_result",
          "data": {
            "text/plain": [
              "['Croatia',\n",
              " 'USA',\n",
              " 'Argentina',\n",
              " 'Mexico',\n",
              " 'USA',\n",
              " 'Morocco',\n",
              " 'USA',\n",
              " 'Finland',\n",
              " 'Argentina',\n",
              " 'Italy',\n",
              " 'Canada',\n",
              " 'South Korea',\n",
              " 'Malta']"
            ]
          },
          "metadata": {
            "tags": []
          },
          "execution_count": 14
        }
      ]
    },
    {
      "cell_type": "markdown",
      "metadata": {
        "id": "8n79_x295ljr",
        "colab_type": "text"
      },
      "source": [
        "### Exploring Lists with Methods"
      ]
    },
    {
      "cell_type": "markdown",
      "metadata": {
        "id": "VE5ZVwJk5ljz",
        "colab_type": "text"
      },
      "source": [
        "Ok, now we notice that some countries are mentioned more than once.  Let's see how many repeat countries are on this list.  "
      ]
    },
    {
      "cell_type": "markdown",
      "metadata": {
        "id": "Tgua5wJk5lj1",
        "colab_type": "text"
      },
      "source": [
        "First, use the `set` and `list` functions to return a unique list of countries.  Set this list equal to the variable `unique_countries`."
      ]
    },
    {
      "cell_type": "code",
      "metadata": {
        "id": "5tByqx6t5lj7",
        "colab_type": "code",
        "colab": {}
      },
      "source": [
        "unique_countries = set(countries)"
      ],
      "execution_count": 0,
      "outputs": []
    },
    {
      "cell_type": "code",
      "metadata": {
        "id": "nQJv8j1_5lkL",
        "colab_type": "code",
        "colab": {
          "base_uri": "https://localhost:8080/",
          "height": 187
        },
        "outputId": "0fa125bd-d843-49b9-aa37-d44aab3f85c5"
      },
      "source": [
        "unique_countries  # ['USA', 'Finland', 'Argentina', 'South Korea', 'Morocco',\n",
        "#'Croatia','Mexico','Malta','Italy','Canada']"
      ],
      "execution_count": 16,
      "outputs": [
        {
          "output_type": "execute_result",
          "data": {
            "text/plain": [
              "{'Argentina',\n",
              " 'Canada',\n",
              " 'Croatia',\n",
              " 'Finland',\n",
              " 'Italy',\n",
              " 'Malta',\n",
              " 'Mexico',\n",
              " 'Morocco',\n",
              " 'South Korea',\n",
              " 'USA'}"
            ]
          },
          "metadata": {
            "tags": []
          },
          "execution_count": 16
        }
      ]
    },
    {
      "cell_type": "markdown",
      "metadata": {
        "id": "9W2qjl-Y5lkh",
        "colab_type": "text"
      },
      "source": [
        "Now the number of repeat countries should be the number of countries minus the number of unique countries.  So use the `len` function on both `unique_countries` and `countries` to calculate this and assign the result to the variable `num_of_repeats`."
      ]
    },
    {
      "cell_type": "code",
      "metadata": {
        "id": "6VUQGJw05lkl",
        "colab_type": "code",
        "colab": {
          "base_uri": "https://localhost:8080/",
          "height": 34
        },
        "outputId": "9d044c10-987a-4c98-8afc-fb9cf98f31cf"
      },
      "source": [
        "num_of_repeats = len(countries) - len(unique_countries)\n",
        "num_of_repeats # 3"
      ],
      "execution_count": 17,
      "outputs": [
        {
          "output_type": "execute_result",
          "data": {
            "text/plain": [
              "3"
            ]
          },
          "metadata": {
            "tags": []
          },
          "execution_count": 17
        }
      ]
    },
    {
      "cell_type": "markdown",
      "metadata": {
        "id": "FsKH9Pla5lkw",
        "colab_type": "text"
      },
      "source": [
        "### Summary"
      ]
    },
    {
      "cell_type": "markdown",
      "metadata": {
        "collapsed": true,
        "id": "qA9hhrsQ5lkz",
        "colab_type": "text"
      },
      "source": [
        "In this lesson, we had some practice with working with lists in Python.  We saw how to add and remove elements from a list, as well as select specific elements.  Finally, we saw how to use a different data structure to calculate the number of unique elements in the list."
      ]
    }
  ]
}